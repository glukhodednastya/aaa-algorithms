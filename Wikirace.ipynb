{
 "cells": [
  {
   "cell_type": "code",
   "execution_count": 1,
   "id": "585bae63",
   "metadata": {},
   "outputs": [],
   "source": [
    "import pandas as pd\n",
    "\n",
    "from queue import deque\n",
    "from heapq import heappop, heappush\n",
    "\n",
    "from collections import namedtuple, defaultdict"
   ]
  },
  {
   "cell_type": "code",
   "execution_count": 2,
   "id": "eb02e494",
   "metadata": {},
   "outputs": [],
   "source": [
    "wiki_pages = pd.read_csv('./simple_english_wiki/simple_english_wiki_pages.csv')\n",
    "wiki_pagelinks = pd.read_csv('./simple_english_wiki/simple_english_wiki_pagelinks.csv')"
   ]
  },
  {
   "cell_type": "code",
   "execution_count": 3,
   "id": "0197e67e",
   "metadata": {},
   "outputs": [
    {
     "data": {
      "text/html": [
       "<div>\n",
       "<style scoped>\n",
       "    .dataframe tbody tr th:only-of-type {\n",
       "        vertical-align: middle;\n",
       "    }\n",
       "\n",
       "    .dataframe tbody tr th {\n",
       "        vertical-align: top;\n",
       "    }\n",
       "\n",
       "    .dataframe thead th {\n",
       "        text-align: right;\n",
       "    }\n",
       "</style>\n",
       "<table border=\"1\" class=\"dataframe\">\n",
       "  <thead>\n",
       "    <tr style=\"text-align: right;\">\n",
       "      <th></th>\n",
       "      <th>page_id</th>\n",
       "      <th>page_title</th>\n",
       "      <th>pl_from</th>\n",
       "      <th>pl_title</th>\n",
       "      <th>pl_to</th>\n",
       "    </tr>\n",
       "  </thead>\n",
       "  <tbody>\n",
       "    <tr>\n",
       "      <th>0</th>\n",
       "      <td>1</td>\n",
       "      <td>April</td>\n",
       "      <td>1</td>\n",
       "      <td>1320</td>\n",
       "      <td>39168</td>\n",
       "    </tr>\n",
       "    <tr>\n",
       "      <th>1</th>\n",
       "      <td>7560</td>\n",
       "      <td>October_24</td>\n",
       "      <td>7560</td>\n",
       "      <td>1320</td>\n",
       "      <td>39168</td>\n",
       "    </tr>\n",
       "    <tr>\n",
       "      <th>2</th>\n",
       "      <td>7873</td>\n",
       "      <td>October_12</td>\n",
       "      <td>7873</td>\n",
       "      <td>1320</td>\n",
       "      <td>39168</td>\n",
       "    </tr>\n",
       "    <tr>\n",
       "      <th>3</th>\n",
       "      <td>8393</td>\n",
       "      <td>July_20</td>\n",
       "      <td>8393</td>\n",
       "      <td>1320</td>\n",
       "      <td>39168</td>\n",
       "    </tr>\n",
       "    <tr>\n",
       "      <th>4</th>\n",
       "      <td>8719</td>\n",
       "      <td>April_17</td>\n",
       "      <td>8719</td>\n",
       "      <td>1320</td>\n",
       "      <td>39168</td>\n",
       "    </tr>\n",
       "    <tr>\n",
       "      <th>...</th>\n",
       "      <td>...</td>\n",
       "      <td>...</td>\n",
       "      <td>...</td>\n",
       "      <td>...</td>\n",
       "      <td>...</td>\n",
       "    </tr>\n",
       "    <tr>\n",
       "      <th>6724923</th>\n",
       "      <td>836310</td>\n",
       "      <td>Khongjom_War_Memorial_Complex</td>\n",
       "      <td>836310</td>\n",
       "      <td>Anglo-Manipuri_War</td>\n",
       "      <td>836099</td>\n",
       "    </tr>\n",
       "    <tr>\n",
       "      <th>6724924</th>\n",
       "      <td>836311</td>\n",
       "      <td>Anglo-Manipur_War</td>\n",
       "      <td>836311</td>\n",
       "      <td>Anglo-Manipuri_War</td>\n",
       "      <td>836099</td>\n",
       "    </tr>\n",
       "    <tr>\n",
       "      <th>6724925</th>\n",
       "      <td>836313</td>\n",
       "      <td>Maibam_Lokpa_Ching</td>\n",
       "      <td>836313</td>\n",
       "      <td>Battle_of_Imphal</td>\n",
       "      <td>836107</td>\n",
       "    </tr>\n",
       "    <tr>\n",
       "      <th>6724926</th>\n",
       "      <td>836316</td>\n",
       "      <td>Alfredo_Borrero_Vega</td>\n",
       "      <td>836316</td>\n",
       "      <td>Alfredo_Borrero</td>\n",
       "      <td>834696</td>\n",
       "    </tr>\n",
       "    <tr>\n",
       "      <th>6724927</th>\n",
       "      <td>836341</td>\n",
       "      <td>Nokia_5510</td>\n",
       "      <td>836341</td>\n",
       "      <td>Nokia_6260_slide</td>\n",
       "      <td>833009</td>\n",
       "    </tr>\n",
       "  </tbody>\n",
       "</table>\n",
       "<p>6724928 rows × 5 columns</p>\n",
       "</div>"
      ],
      "text/plain": [
       "         page_id                     page_title  pl_from            pl_title  \\\n",
       "0              1                          April        1                1320   \n",
       "1           7560                     October_24     7560                1320   \n",
       "2           7873                     October_12     7873                1320   \n",
       "3           8393                        July_20     8393                1320   \n",
       "4           8719                       April_17     8719                1320   \n",
       "...          ...                            ...      ...                 ...   \n",
       "6724923   836310  Khongjom_War_Memorial_Complex   836310  Anglo-Manipuri_War   \n",
       "6724924   836311              Anglo-Manipur_War   836311  Anglo-Manipuri_War   \n",
       "6724925   836313             Maibam_Lokpa_Ching   836313    Battle_of_Imphal   \n",
       "6724926   836316           Alfredo_Borrero_Vega   836316     Alfredo_Borrero   \n",
       "6724927   836341                     Nokia_5510   836341    Nokia_6260_slide   \n",
       "\n",
       "          pl_to  \n",
       "0         39168  \n",
       "1         39168  \n",
       "2         39168  \n",
       "3         39168  \n",
       "4         39168  \n",
       "...         ...  \n",
       "6724923  836099  \n",
       "6724924  836099  \n",
       "6724925  836107  \n",
       "6724926  834696  \n",
       "6724927  833009  \n",
       "\n",
       "[6724928 rows x 5 columns]"
      ]
     },
     "execution_count": 3,
     "metadata": {},
     "output_type": "execute_result"
    }
   ],
   "source": [
    "wiki_df = wiki_pages.merge(wiki_pagelinks, how='right', left_on='page_id', right_on='pl_from')\n",
    "wiki_df"
   ]
  },
  {
   "cell_type": "code",
   "execution_count": 4,
   "id": "7bbceec7",
   "metadata": {},
   "outputs": [],
   "source": [
    "wiki_df.page_title = wiki_df.page_title.astype(str)\n",
    "wiki_df.pl_title = wiki_df.pl_title.astype(str)"
   ]
  },
  {
   "cell_type": "code",
   "execution_count": 5,
   "id": "46cd8e7a",
   "metadata": {},
   "outputs": [],
   "source": [
    "initial_link = 'Analytics'\n",
    "final_link = 'Algorithm'"
   ]
  },
  {
   "cell_type": "code",
   "execution_count": 6,
   "id": "9298b1e7",
   "metadata": {},
   "outputs": [],
   "source": [
    "edge = namedtuple('edge', 'link path')"
   ]
  },
  {
   "cell_type": "code",
   "execution_count": 7,
   "id": "48930fc0",
   "metadata": {},
   "outputs": [],
   "source": [
    "class GraphCreation:\n",
    "    def __init__(self):\n",
    "        self.neighbor_links = defaultdict(set)\n",
    "        self.link = set()\n",
    "        \n",
    "    def add_edge(self, edge):\n",
    "        self.neighbor_links[edge.link].add(edge.path)\n",
    "        self.link.add(edge.link)\n",
    "        self.link.add(edge.path)\n",
    "            \n",
    "    def __getitem__(self, item):\n",
    "        return self.neighbor_links.get(item)"
   ]
  },
  {
   "cell_type": "code",
   "execution_count": 8,
   "id": "8676e849",
   "metadata": {},
   "outputs": [],
   "source": [
    "graph = GraphCreation()\n",
    "for i in range(len(wiki_df)):\n",
    "    graph.add_edge(edge(wiki_df.page_title[i], wiki_df.pl_title[i]))"
   ]
  },
  {
   "cell_type": "markdown",
   "id": "e5177d4f",
   "metadata": {},
   "source": [
    "### Задача №1  \n",
    "Какое наименьшее количество переходов по ссылкам нужно сделать, чтобы прийти от статьи Analytics к статье Algorithm?"
   ]
  },
  {
   "cell_type": "code",
   "execution_count": 9,
   "id": "64ceeb61",
   "metadata": {},
   "outputs": [],
   "source": [
    "def first_task(graph, link):\n",
    "    viewed_links = set()\n",
    "    links = deque()\n",
    "    links.append((link, 0))\n",
    "    result = list()\n",
    "    while links:\n",
    "        current_link, current_level = links.popleft()\n",
    "        if graph[current_link] is None:\n",
    "            continue\n",
    "        else:\n",
    "            inherited_links = [edge for edge in graph[current_link]]\n",
    "        for inherited_link in inherited_links:\n",
    "            if inherited_link not in viewed_links:\n",
    "                viewed_links.add(inherited_link)\n",
    "                inherited_level = (inherited_link, current_level+1)\n",
    "                links.append(inherited_level)\n",
    "                result.append(inherited_level)\n",
    "                \n",
    "    return result"
   ]
  },
  {
   "cell_type": "code",
   "execution_count": 10,
   "id": "1dfbd3ca",
   "metadata": {},
   "outputs": [
    {
     "name": "stdout",
     "output_type": "stream",
     "text": [
      "Ответ: 4\n"
     ]
    }
   ],
   "source": [
    "print('Ответ:', [i[1] for i in first_task(graph, initial_link) if (i[0] == final_link)][0])"
   ]
  },
  {
   "cell_type": "markdown",
   "id": "bed64d7d",
   "metadata": {},
   "source": [
    "## Задача №2   \n",
    "Какая статья на кратчайшем пути из предыдущей задачи содержит ссылку на статью Algorithm?"
   ]
  },
  {
   "cell_type": "code",
   "execution_count": 11,
   "id": "2111e5e3",
   "metadata": {},
   "outputs": [],
   "source": [
    "def second_task(graph, link):\n",
    "    viewed_links = set()\n",
    "    links = deque()\n",
    "    links.append((link, 0))\n",
    "    result = 0\n",
    "    while links:\n",
    "        current, current_level = links.popleft()\n",
    "        if (graph[current] is None) or (final_link not in graph[current]):\n",
    "            return result\n",
    "        else:\n",
    "            result += 1\n",
    "            return result"
   ]
  },
  {
   "cell_type": "code",
   "execution_count": 12,
   "id": "56e9b8f2",
   "metadata": {},
   "outputs": [],
   "source": [
    "links = list()\n",
    "for i in first_task(graph, initial_link):\n",
    "    if i[1] == 3:\n",
    "        links.append(i[0])"
   ]
  },
  {
   "cell_type": "code",
   "execution_count": 13,
   "id": "df24e572",
   "metadata": {},
   "outputs": [],
   "source": [
    "flg = list()\n",
    "for i in links:\n",
    "    flg.append(second_task(graph, i))"
   ]
  },
  {
   "cell_type": "code",
   "execution_count": 14,
   "id": "c5802b46",
   "metadata": {},
   "outputs": [
    {
     "name": "stdout",
     "output_type": "stream",
     "text": [
      "Ответ: Serial_number\n"
     ]
    }
   ],
   "source": [
    "result = pd.DataFrame(zip(links, flg), columns = ['links', 'flg'])\n",
    "print('Ответ:', result[result.flg == 1].links.values[0])"
   ]
  },
  {
   "cell_type": "markdown",
   "id": "9576a6bf",
   "metadata": {},
   "source": [
    "## Задача №3   \n",
    "Задача такая же, как в шаге 2, но теперь мы еще и учитываем длину ссылки.    \n",
    "**Например:**  \n",
    "Путь Cooking -> Wood(4) -> Building(8) -> Concrete(8) имеет длину 20, а путь Cooking -> Oven(4) -> Brick(5) -> Concrete(8) имеет длину 17."
   ]
  },
  {
   "cell_type": "code",
   "execution_count": 15,
   "id": "38057d70",
   "metadata": {},
   "outputs": [],
   "source": [
    "weighted_edge = namedtuple('edge', 'link path length')"
   ]
  },
  {
   "cell_type": "code",
   "execution_count": 16,
   "id": "6166ae42",
   "metadata": {},
   "outputs": [],
   "source": [
    "class WeightedGraph:\n",
    "    def __init__(self):\n",
    "        self.neighbor_links = defaultdict(set)\n",
    "        self.link = set()\n",
    "        \n",
    "    def add_edge(self, edge):\n",
    "        self.neighbor_links[edge.link].add(edge)\n",
    "        self.link.add(edge.link)\n",
    "        self.link.add(edge.path)\n",
    "            \n",
    "    def __getitem__(self, item):\n",
    "        return self.neighbor_links.get(item, [])"
   ]
  },
  {
   "cell_type": "code",
   "execution_count": 17,
   "id": "4093a5f0",
   "metadata": {},
   "outputs": [],
   "source": [
    "weighted_graph = WeightedGraph()\n",
    "for i in range(len(wiki_df)):\n",
    "    weighted_graph.add_edge(weighted_edge(wiki_df.page_title[i], wiki_df.pl_title[i], len(wiki_df.pl_title[i])))"
   ]
  },
  {
   "cell_type": "code",
   "execution_count": 18,
   "id": "108c775f",
   "metadata": {},
   "outputs": [],
   "source": [
    "def third_task(graph, link):\n",
    "    viewed_links = set()\n",
    "    links = [(0, link)]\n",
    "    min_lengths = {link: 0}\n",
    "    while links: \n",
    "        current_length, current_link = heappop(links)\n",
    "        if current_link not in viewed_links:\n",
    "            for _, next_link, length in graph.neighbor_links.get(current_link, []): \n",
    "                if next_link in viewed_links:\n",
    "                    continue \n",
    "                old_min_length = min_lengths.get(next_link)\n",
    "                new_length = current_length + length\n",
    "                if (old_min_length is None) or (old_min_length > new_length):\n",
    "                    min_lengths[next_link] = new_length\n",
    "                    heappush(links, (new_length, next_link))       \n",
    "            viewed_links.add(current_link)\n",
    "    return min_lengths"
   ]
  },
  {
   "cell_type": "code",
   "execution_count": 19,
   "id": "7afb712b",
   "metadata": {},
   "outputs": [
    {
     "name": "stdout",
     "output_type": "stream",
     "text": [
      "Ответ: 29\n"
     ]
    }
   ],
   "source": [
    "print('Ответ:', third_task(weighted_graph, initial_link)[final_link])"
   ]
  },
  {
   "cell_type": "markdown",
   "id": "1257f074",
   "metadata": {},
   "source": [
    "## Задача №4   \n",
    "Аналогично заданию 3 - нужно написать название статьи, которая ведет на статью Algorithm в кратчайшем пути из задачи 4."
   ]
  },
  {
   "cell_type": "code",
   "execution_count": 20,
   "id": "74614a4e",
   "metadata": {},
   "outputs": [],
   "source": [
    "def fourth_task(graph, link):\n",
    "    viewed_links = set()\n",
    "    links = [(0, link)]\n",
    "    min_lengths = {link: (0, link)}\n",
    "    while links: \n",
    "        current_length, current_link = heappop(links)\n",
    "        if current_link not in viewed_links:\n",
    "            for _, next_link, length in graph.neighbor_links.get(current_link, []): \n",
    "                if next_link in viewed_links:\n",
    "                    continue\n",
    "                if min_lengths.get(next_link) is None:\n",
    "                    old_min_length = None\n",
    "                else:\n",
    "                    old_min_length = min_lengths.get(next_link)[0]\n",
    "                new_length = current_length + length\n",
    "                if (old_min_length is None) or (new_length < old_min_length):\n",
    "                    min_lengths[next_link] = (new_length, current_link)\n",
    "                    heappush(links, (new_length, next_link))       \n",
    "            viewed_links.add(current_link)\n",
    "    return min_lengths"
   ]
  },
  {
   "cell_type": "code",
   "execution_count": 21,
   "id": "90c13a03",
   "metadata": {},
   "outputs": [
    {
     "name": "stdout",
     "output_type": "stream",
     "text": [
      "Ответ: Logic\n"
     ]
    }
   ],
   "source": [
    "print('Ответ:', fourth_task(weighted_graph, initial_link)[final_link][1])"
   ]
  },
  {
   "cell_type": "code",
   "execution_count": null,
   "id": "31df9a77",
   "metadata": {},
   "outputs": [],
   "source": []
  }
 ],
 "metadata": {
  "kernelspec": {
   "display_name": "Python 3 (ipykernel)",
   "language": "python",
   "name": "python3"
  },
  "language_info": {
   "codemirror_mode": {
    "name": "ipython",
    "version": 3
   },
   "file_extension": ".py",
   "mimetype": "text/x-python",
   "name": "python",
   "nbconvert_exporter": "python",
   "pygments_lexer": "ipython3",
   "version": "3.9.12"
  }
 },
 "nbformat": 4,
 "nbformat_minor": 5
}
