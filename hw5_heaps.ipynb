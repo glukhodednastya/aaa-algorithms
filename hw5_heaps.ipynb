{
 "cells": [
  {
   "cell_type": "markdown",
   "id": "fca226b0",
   "metadata": {},
   "source": [
    "### Домашнее задание #5   \n"
   ]
  },
  {
   "cell_type": "markdown",
   "id": "8ca00048",
   "metadata": {},
   "source": [
    "**1. Порядковая статистика.**    \n",
    "Дан массив целых чисел arr и целое число k. Нужно найти элемент, которые в отсортированном по возрастанию массиве лежит на k-ой позиции."
   ]
  },
  {
   "cell_type": "code",
   "execution_count": null,
   "id": "1be2a3ac",
   "metadata": {},
   "outputs": [],
   "source": [
    "def get_kth_element(arr: list, k: int):\n",
    "    arr = sorted(arr)\n",
    "    for i in range(len(arr)):\n",
    "        if i == k:\n",
    "            return arr[i]"
   ]
  },
  {
   "cell_type": "code",
   "execution_count": 18,
   "id": "de124f28",
   "metadata": {},
   "outputs": [],
   "source": [
    "def solution():\n",
    "    arr = list(map(int, input().split()))\n",
    "    k = int(input())\n",
    "    print(get_kth_element(arr, k))"
   ]
  },
  {
   "cell_type": "code",
   "execution_count": 19,
   "id": "b5adfd12",
   "metadata": {},
   "outputs": [
    {
     "name": "stdout",
     "output_type": "stream",
     "text": [
      "3 1 2 4\n",
      "2\n",
      "3\n"
     ]
    }
   ],
   "source": [
    "solution()"
   ]
  },
  {
   "cell_type": "markdown",
   "id": "7e08d16a",
   "metadata": {},
   "source": [
    "**2. Слияние K отсортированных массивов.**  \n",
    "Даны K отсортированных по возрастанию массивов arrs. Нужно получить массив, который содержит все элементы из этих массивов и тоже отсортирован по возрастанию. Сортировку использовать запрещено. heapq.merge тоже, но можно почитать код для вдохновения. Если хотите использовать кучу, то используйте реализацию в модуле heapq, самописная реализация на питоне будет медленней и может не пройти тесты."
   ]
  },
  {
   "cell_type": "code",
   "execution_count": 4,
   "id": "48a33f1d",
   "metadata": {},
   "outputs": [],
   "source": [
    "def read_multiline_input():\n",
    "    arrs = []\n",
    "    while True:\n",
    "        arr = input()\n",
    "        if arr != '.':\n",
    "            arr = list(map(int, arr.split()))\n",
    "            arrs.append(arr)\n",
    "        else:\n",
    "            break\n",
    "    return arrs"
   ]
  },
  {
   "cell_type": "code",
   "execution_count": 88,
   "id": "a4efc792",
   "metadata": {},
   "outputs": [],
   "source": [
    "from heapq import heappush, heapify, heappop\n",
    "\n",
    "\n",
    "def merge_k_sorted(arrs: list) -> list:\n",
    "    head = []\n",
    "    heap = [(h[0], i) for i, h in enumerate(arrs) if h]\n",
    "    heapify(heap)\n",
    "    \n",
    "    while heap:\n",
    "        data, index = heappop(heap)\n",
    "        head.append(data)\n",
    "        if arrs[index]: arrs[index].pop(0)\n",
    "        node = arrs[index]\n",
    "        if node: heappush(heap, (node[0], index))\n",
    "    return head"
   ]
  },
  {
   "cell_type": "code",
   "execution_count": 89,
   "id": "8616e64e",
   "metadata": {},
   "outputs": [],
   "source": [
    "def solution():\n",
    "    arrs = read_multiline_input() # эта функция уже написана\n",
    "    merged = merge_k_sorted(arrs)\n",
    "    print(' '.join([str(el) for el in merged]))"
   ]
  },
  {
   "cell_type": "code",
   "execution_count": 90,
   "id": "c0a8cd97",
   "metadata": {},
   "outputs": [
    {
     "name": "stdout",
     "output_type": "stream",
     "text": [
      "1 2 3\n",
      "3 4 5 6\n",
      ".\n",
      "1 2 3 3 4 5 6\n"
     ]
    }
   ],
   "source": [
    "solution()"
   ]
  },
  {
   "cell_type": "code",
   "execution_count": 92,
   "id": "7df29f9d",
   "metadata": {},
   "outputs": [
    {
     "name": "stdout",
     "output_type": "stream",
     "text": [
      "1 2 3 4\n",
      "2 3 \n",
      ".\n",
      "1 2 2 3 3 4\n"
     ]
    }
   ],
   "source": [
    "solution()"
   ]
  },
  {
   "cell_type": "code",
   "execution_count": null,
   "id": "a9517b0c",
   "metadata": {},
   "outputs": [],
   "source": []
  }
 ],
 "metadata": {
  "kernelspec": {
   "display_name": "Python 3 (ipykernel)",
   "language": "python",
   "name": "python3"
  },
  "language_info": {
   "codemirror_mode": {
    "name": "ipython",
    "version": 3
   },
   "file_extension": ".py",
   "mimetype": "text/x-python",
   "name": "python",
   "nbconvert_exporter": "python",
   "pygments_lexer": "ipython3",
   "version": "3.9.12"
  }
 },
 "nbformat": 4,
 "nbformat_minor": 5
}
